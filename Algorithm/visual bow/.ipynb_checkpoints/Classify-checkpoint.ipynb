{
 "cells": [
  {
   "cell_type": "code",
   "execution_count": 58,
   "metadata": {},
   "outputs": [],
   "source": [
    "import pandas as pd\n",
    "import numpy as np\n",
    "from sklearn import model_selection\n",
    "from sklearn.ensemble import RandomForestClassifier\n",
    "from sklearn import metrics\n",
    "import math"
   ]
  },
  {
   "cell_type": "code",
   "execution_count": 59,
   "metadata": {},
   "outputs": [
    {
     "name": "stdout",
     "output_type": "stream",
     "text": [
      "loading data\n",
      "cv grid search:\n",
      "{'max_features': 23, 'n_estimators': 1000, 'n_jobs': 4}\n",
      "  random forest cv: \taccuracy = 0.405 (+/=0.103) for {'max_features': 2, 'n_estimators': 1000, 'n_jobs': 4}\n",
      "  random forest cv: \taccuracy = 0.432 (+/=0.117) for {'max_features': 7, 'n_estimators': 1000, 'n_jobs': 4}\n",
      "  random forest cv: \taccuracy = 0.430 (+/=0.105) for {'max_features': 12, 'n_estimators': 1000, 'n_jobs': 4}\n",
      "  random forest cv: \taccuracy = 0.426 (+/=0.118) for {'max_features': 18, 'n_estimators': 1000, 'n_jobs': 4}\n",
      "  random forest cv: \taccuracy = 0.438 (+/=0.126) for {'max_features': 23, 'n_estimators': 1000, 'n_jobs': 4}\n",
      "  random forest cv: \taccuracy = 0.421 (+/=0.106) for {'max_features': 28, 'n_estimators': 1000, 'n_jobs': 4}\n",
      "  random forest cv: \taccuracy = 0.432 (+/=0.094) for {'max_features': 34, 'n_estimators': 1000, 'n_jobs': 4}\n",
      "  random forest cv: \taccuracy = 0.415 (+/=0.104) for {'max_features': 39, 'n_estimators': 1000, 'n_jobs': 4}\n",
      "  random forest cv: \taccuracy = 0.415 (+/=0.111) for {'max_features': 44, 'n_estimators': 1000, 'n_jobs': 4}\n",
      "  random forest cv: \taccuracy = 0.415 (+/=0.082) for {'max_features': 50, 'n_estimators': 1000, 'n_jobs': 4}\n",
      "  cv accuracy on test data: 0.41041041041041043\n",
      "final accuracy: 0.4174174174174174\n",
      "loading data\n",
      "cv grid search:\n",
      "{'max_features': 34, 'n_estimators': 1000, 'n_jobs': 4}\n",
      "  random forest cv: \taccuracy = 0.388 (+/=0.074) for {'max_features': 2, 'n_estimators': 1000, 'n_jobs': 4}\n",
      "  random forest cv: \taccuracy = 0.384 (+/=0.092) for {'max_features': 12, 'n_estimators': 1000, 'n_jobs': 4}\n",
      "  random forest cv: \taccuracy = 0.380 (+/=0.066) for {'max_features': 23, 'n_estimators': 1000, 'n_jobs': 4}\n",
      "  random forest cv: \taccuracy = 0.390 (+/=0.070) for {'max_features': 34, 'n_estimators': 1000, 'n_jobs': 4}\n",
      "  random forest cv: \taccuracy = 0.378 (+/=0.100) for {'max_features': 45, 'n_estimators': 1000, 'n_jobs': 4}\n",
      "  random forest cv: \taccuracy = 0.373 (+/=0.087) for {'max_features': 56, 'n_estimators': 1000, 'n_jobs': 4}\n",
      "  random forest cv: \taccuracy = 0.378 (+/=0.088) for {'max_features': 67, 'n_estimators': 1000, 'n_jobs': 4}\n",
      "  random forest cv: \taccuracy = 0.373 (+/=0.074) for {'max_features': 78, 'n_estimators': 1000, 'n_jobs': 4}\n",
      "  random forest cv: \taccuracy = 0.371 (+/=0.060) for {'max_features': 89, 'n_estimators': 1000, 'n_jobs': 4}\n",
      "  random forest cv: \taccuracy = 0.369 (+/=0.080) for {'max_features': 100, 'n_estimators': 1000, 'n_jobs': 4}\n",
      "  cv accuracy on test data: 0.38738738738738737\n",
      "final accuracy: 0.3758758758758759\n",
      "loading data\n",
      "cv grid search:\n",
      "{'max_features': 2, 'n_estimators': 1000, 'n_jobs': 4}\n",
      "  random forest cv: \taccuracy = 0.384 (+/=0.060) for {'max_features': 2, 'n_estimators': 1000, 'n_jobs': 4}\n",
      "  random forest cv: \taccuracy = 0.373 (+/=0.061) for {'max_features': 24, 'n_estimators': 1000, 'n_jobs': 4}\n",
      "  random forest cv: \taccuracy = 0.369 (+/=0.057) for {'max_features': 46, 'n_estimators': 1000, 'n_jobs': 4}\n",
      "  random forest cv: \taccuracy = 0.358 (+/=0.044) for {'max_features': 68, 'n_estimators': 1000, 'n_jobs': 4}\n",
      "  random forest cv: \taccuracy = 0.359 (+/=0.054) for {'max_features': 90, 'n_estimators': 1000, 'n_jobs': 4}\n",
      "  random forest cv: \taccuracy = 0.371 (+/=0.062) for {'max_features': 112, 'n_estimators': 1000, 'n_jobs': 4}\n",
      "  random forest cv: \taccuracy = 0.365 (+/=0.047) for {'max_features': 134, 'n_estimators': 1000, 'n_jobs': 4}\n",
      "  random forest cv: \taccuracy = 0.373 (+/=0.043) for {'max_features': 156, 'n_estimators': 1000, 'n_jobs': 4}\n",
      "  random forest cv: \taccuracy = 0.361 (+/=0.047) for {'max_features': 178, 'n_estimators': 1000, 'n_jobs': 4}\n",
      "  random forest cv: \taccuracy = 0.356 (+/=0.035) for {'max_features': 200, 'n_estimators': 1000, 'n_jobs': 4}\n",
      "  cv accuracy on test data: 0.34884884884884887\n",
      "final accuracy: 0.35135135135135137\n",
      "loading data\n",
      "cv grid search:\n",
      "{'max_features': 2, 'n_estimators': 1000, 'n_jobs': 4}\n",
      "  random forest cv: \taccuracy = 0.355 (+/=0.165) for {'max_features': 2, 'n_estimators': 1000, 'n_jobs': 4}\n",
      "  random forest cv: \taccuracy = 0.338 (+/=0.134) for {'max_features': 35, 'n_estimators': 1000, 'n_jobs': 4}\n",
      "  random forest cv: \taccuracy = 0.354 (+/=0.112) for {'max_features': 68, 'n_estimators': 1000, 'n_jobs': 4}\n",
      "  random forest cv: \taccuracy = 0.334 (+/=0.123) for {'max_features': 101, 'n_estimators': 1000, 'n_jobs': 4}\n",
      "  random forest cv: \taccuracy = 0.336 (+/=0.136) for {'max_features': 134, 'n_estimators': 1000, 'n_jobs': 4}\n",
      "  random forest cv: \taccuracy = 0.338 (+/=0.133) for {'max_features': 167, 'n_estimators': 1000, 'n_jobs': 4}\n",
      "  random forest cv: \taccuracy = 0.340 (+/=0.137) for {'max_features': 200, 'n_estimators': 1000, 'n_jobs': 4}\n",
      "  random forest cv: \taccuracy = 0.342 (+/=0.103) for {'max_features': 233, 'n_estimators': 1000, 'n_jobs': 4}\n",
      "  random forest cv: \taccuracy = 0.336 (+/=0.127) for {'max_features': 266, 'n_estimators': 1000, 'n_jobs': 4}\n",
      "  random forest cv: \taccuracy = 0.350 (+/=0.176) for {'max_features': 300, 'n_estimators': 1000, 'n_jobs': 4}\n",
      "  cv accuracy on test data: 0.33183183183183185\n",
      "final accuracy: 0.3353353353353353\n",
      "loading data\n",
      "cv grid search:\n",
      "{'max_features': 57, 'n_estimators': 1000, 'n_jobs': 4}\n",
      "  random forest cv: \taccuracy = 0.352 (+/=0.105) for {'max_features': 2, 'n_estimators': 1000, 'n_jobs': 4}\n",
      "  random forest cv: \taccuracy = 0.380 (+/=0.088) for {'max_features': 57, 'n_estimators': 1000, 'n_jobs': 4}\n",
      "  random forest cv: \taccuracy = 0.378 (+/=0.101) for {'max_features': 112, 'n_estimators': 1000, 'n_jobs': 4}\n",
      "  random forest cv: \taccuracy = 0.361 (+/=0.104) for {'max_features': 168, 'n_estimators': 1000, 'n_jobs': 4}\n",
      "  random forest cv: \taccuracy = 0.375 (+/=0.084) for {'max_features': 223, 'n_estimators': 1000, 'n_jobs': 4}\n",
      "  random forest cv: \taccuracy = 0.380 (+/=0.097) for {'max_features': 278, 'n_estimators': 1000, 'n_jobs': 4}\n",
      "  random forest cv: \taccuracy = 0.373 (+/=0.127) for {'max_features': 334, 'n_estimators': 1000, 'n_jobs': 4}\n",
      "  random forest cv: \taccuracy = 0.380 (+/=0.091) for {'max_features': 389, 'n_estimators': 1000, 'n_jobs': 4}\n",
      "  random forest cv: \taccuracy = 0.369 (+/=0.089) for {'max_features': 444, 'n_estimators': 1000, 'n_jobs': 4}\n",
      "  random forest cv: \taccuracy = 0.367 (+/=0.106) for {'max_features': 500, 'n_estimators': 1000, 'n_jobs': 4}\n",
      "  cv accuracy on test data: 0.3483483483483483\n",
      "final accuracy: 0.34284284284284283\n",
      "Wall time: 7min 4s\n"
     ]
    }
   ],
   "source": [
    "%%time\n",
    "# make blank results df\n",
    "results_df = pd.DataFrame(columns = ['n_clusters', 'cv_accuracy', 'final_accuracy', 'best_params'])\n",
    "for n in [50, 100, 200, 300, 500]:\n",
    "    # load data\n",
    "    print('loading data')\n",
    "    train_df = pd.read_csv('cluster_dfs/train_kmeans%s.csv'%n)\n",
    "    test_df = pd.read_csv('cluster_dfs/test_kmeans%s.csv'%n)\n",
    "    # make X and y\n",
    "    feat_cols = ['cluster_%s'%i for i in range(0, n)]\n",
    "    Xtrain = train_df[feat_cols].values\n",
    "    Xtest = test_df[feat_cols].values\n",
    "    ytrain = list(train_df['material'])\n",
    "    ytest = list(test_df['material'])\n",
    "    # grid search\n",
    "    print('cv grid search:')\n",
    "    forest_cv = model_selection.GridSearchCV(RandomForestClassifier(),\n",
    "                                          {'n_estimators':[1000],\n",
    "                                            'max_features':[math.floor(i) for i in np.linspace(2, n, 10)],\n",
    "                                            'n_jobs':[4]},\n",
    "                                            cv = 5,\n",
    "                                            scoring = 'accuracy')\n",
    "    forest_cv.fit(Xtrain, ytrain)\n",
    "    forest_best_params = forest_cv.best_params_\n",
    "    print(forest_best_params)\n",
    "    for mean, std, params in zip(forest_cv.cv_results_['mean_test_score'],\n",
    "                                forest_cv.cv_results_['std_test_score'],\n",
    "                                forest_cv.cv_results_['params']):\n",
    "        print('  random forest cv: \\taccuracy = %0.3f (+/=%0.3f) for %s'%(mean, std*2, params))\n",
    "    forest_pred_cv = forest_cv.predict(Xtest)\n",
    "    forest_cv_accuracy = metrics.accuracy_score(ytest, forest_pred_cv)\n",
    "    print('  cv accuracy on test data: %s'%forest_cv_accuracy)\n",
    "    \n",
    "    forest = RandomForestClassifier(n_estimators = 1000,\n",
    "                                   max_features = forest_best_params['max_features'])\n",
    "    # final model\n",
    "    forest.fit(Xtrain, ytrain)\n",
    "    forest_pred = forest.predict(Xtest)\n",
    "    forest_accuracy = metrics.accuracy_score(ytest, forest_pred)\n",
    "    print('final accuracy: %s'%forest_accuracy)\n",
    "    # add to results df\n",
    "    results = {\n",
    "        'n_clusters':n,\n",
    "        'cv_accuracy':forest_cv_accuracy,\n",
    "        'final_accuracy':forest_accuracy,\n",
    "        'best_params':forest_best_params\n",
    "    }\n",
    "    results_df = results_df.append(results, ignore_index=True)"
   ]
  },
  {
   "cell_type": "code",
   "execution_count": 23,
   "metadata": {},
   "outputs": [],
   "source": [
    "train_df = pd.read_csv('cluster_dfs/train_kmeans50.csv')\n",
    "test_df = pd.read_csv('cluster_dfs/test_kmeans50.csv')"
   ]
  },
  {
   "cell_type": "code",
   "execution_count": 24,
   "metadata": {},
   "outputs": [],
   "source": [
    "n = 50\n",
    "feat_cols = ['cluster_%s'%i for i in range(0, n)]\n",
    "Xtrain = train_df[feat_cols].values\n",
    "Xtest = test_df[feat_cols].values\n",
    "\n",
    "ytrain = list(train_df['material'])\n",
    "ytest = list(test_df['material'])"
   ]
  },
  {
   "cell_type": "code",
   "execution_count": 47,
   "metadata": {},
   "outputs": [],
   "source": [
    "forest_cv = model_selection.GridSearchCV(RandomForestClassifier(),\n",
    "                                      {'n_estimators':[1000],\n",
    "                                       'max_features':[math.floor(i) for i in np.linspace(2, n, 10)],\n",
    "                                        'n_jobs':[4]},\n",
    "                                      cv = 5,\n",
    "                                      scoring = 'accuracy')"
   ]
  },
  {
   "cell_type": "code",
   "execution_count": 48,
   "metadata": {},
   "outputs": [
    {
     "name": "stdout",
     "output_type": "stream",
     "text": [
      "Wall time: 1min 18s\n"
     ]
    },
    {
     "data": {
      "text/plain": [
       "GridSearchCV(cv=5, error_score=nan,\n",
       "             estimator=RandomForestClassifier(bootstrap=True, ccp_alpha=0.0,\n",
       "                                              class_weight=None,\n",
       "                                              criterion='gini', max_depth=None,\n",
       "                                              max_features='auto',\n",
       "                                              max_leaf_nodes=None,\n",
       "                                              max_samples=None,\n",
       "                                              min_impurity_decrease=0.0,\n",
       "                                              min_impurity_split=None,\n",
       "                                              min_samples_leaf=1,\n",
       "                                              min_samples_split=2,\n",
       "                                              min_weight_fraction_leaf=0.0,\n",
       "                                              n_estimators=100, n_jobs=None,\n",
       "                                              oob_score=False,\n",
       "                                              random_state=None, verbose=0,\n",
       "                                              warm_start=False),\n",
       "             iid='deprecated', n_jobs=None,\n",
       "             param_grid={'max_features': [2, 7, 12, 18, 23, 28, 34, 39, 44, 50],\n",
       "                         'n_estimators': [1000], 'n_jobs': [4]},\n",
       "             pre_dispatch='2*n_jobs', refit=True, return_train_score=False,\n",
       "             scoring='accuracy', verbose=0)"
      ]
     },
     "execution_count": 48,
     "metadata": {},
     "output_type": "execute_result"
    }
   ],
   "source": [
    "%%time\n",
    "forest_cv.fit(Xtrain, ytrain)"
   ]
  },
  {
   "cell_type": "code",
   "execution_count": 49,
   "metadata": {},
   "outputs": [
    {
     "name": "stdout",
     "output_type": "stream",
     "text": [
      "{'max_features': 28, 'n_estimators': 1000, 'n_jobs': 4}\n"
     ]
    }
   ],
   "source": [
    "forest_best_params = forest_cv.best_params_\n",
    "print(forest_best_params)"
   ]
  },
  {
   "cell_type": "code",
   "execution_count": 50,
   "metadata": {},
   "outputs": [
    {
     "name": "stdout",
     "output_type": "stream",
     "text": [
      "random forest: \taccuracy = 0.419 (+/=0.079) for {'max_features': 2, 'n_estimators': 1000, 'n_jobs': 4}\n",
      "random forest: \taccuracy = 0.436 (+/=0.078) for {'max_features': 7, 'n_estimators': 1000, 'n_jobs': 4}\n",
      "random forest: \taccuracy = 0.434 (+/=0.115) for {'max_features': 12, 'n_estimators': 1000, 'n_jobs': 4}\n",
      "random forest: \taccuracy = 0.428 (+/=0.090) for {'max_features': 18, 'n_estimators': 1000, 'n_jobs': 4}\n",
      "random forest: \taccuracy = 0.440 (+/=0.079) for {'max_features': 23, 'n_estimators': 1000, 'n_jobs': 4}\n",
      "random forest: \taccuracy = 0.442 (+/=0.070) for {'max_features': 28, 'n_estimators': 1000, 'n_jobs': 4}\n",
      "random forest: \taccuracy = 0.415 (+/=0.061) for {'max_features': 34, 'n_estimators': 1000, 'n_jobs': 4}\n",
      "random forest: \taccuracy = 0.413 (+/=0.066) for {'max_features': 39, 'n_estimators': 1000, 'n_jobs': 4}\n",
      "random forest: \taccuracy = 0.415 (+/=0.105) for {'max_features': 44, 'n_estimators': 1000, 'n_jobs': 4}\n",
      "random forest: \taccuracy = 0.411 (+/=0.079) for {'max_features': 50, 'n_estimators': 1000, 'n_jobs': 4}\n"
     ]
    }
   ],
   "source": [
    "for mean, std, params in zip(forest_cv.cv_results_['mean_test_score'],\n",
    "                            forest_cv.cv_results_['std_test_score'],\n",
    "                            forest_cv.cv_results_['params']):\n",
    "    print('random forest: \\taccuracy = %0.3f (+/=%0.3f) for %s'%(mean, std*2, params))"
   ]
  },
  {
   "cell_type": "code",
   "execution_count": 51,
   "metadata": {},
   "outputs": [
    {
     "name": "stdout",
     "output_type": "stream",
     "text": [
      "cv accuracy on test data: 0.4059059059059059\n"
     ]
    }
   ],
   "source": [
    "forest_pred_cv = forest_cv.predict(Xtest)\n",
    "forest_cv_accuracy = metrics.accuracy_score(ytest, forest_pred_cv)\n",
    "print('cv accuracy on test data: %s'%forest_cv_accuracy)"
   ]
  },
  {
   "cell_type": "code",
   "execution_count": 54,
   "metadata": {},
   "outputs": [
    {
     "name": "stdout",
     "output_type": "stream",
     "text": [
      "final accuracy: 0.4024024024024024\n",
      "Wall time: 4.31 s\n"
     ]
    }
   ],
   "source": [
    "%%time\n",
    "forest = RandomForestClassifier(n_estimators = 1000,\n",
    "                               max_features = forest_best_params['max_features'])\n",
    "forest.fit(Xtrain, ytrain)\n",
    "forest_pred = forest.predict(Xtest)\n",
    "forest_accuracy = metrics.accuracy_score(ytest, forest_pred)\n",
    "print('final accuracy: %s'%forest_accuracy)"
   ]
  },
  {
   "cell_type": "code",
   "execution_count": 55,
   "metadata": {},
   "outputs": [],
   "source": [
    "results = {\n",
    "    'n_clusters':n,\n",
    "    'cv_accuracy':forest_cv_accuracy,\n",
    "    'final_accuracy':forest_accuracy,\n",
    "    'best_params':forest_best_params\n",
    "}\n",
    "\n",
    "results_df = results_df.append(results, ignore_index=True)"
   ]
  },
  {
   "cell_type": "code",
   "execution_count": 60,
   "metadata": {},
   "outputs": [
    {
     "data": {
      "text/html": [
       "<div>\n",
       "<style scoped>\n",
       "    .dataframe tbody tr th:only-of-type {\n",
       "        vertical-align: middle;\n",
       "    }\n",
       "\n",
       "    .dataframe tbody tr th {\n",
       "        vertical-align: top;\n",
       "    }\n",
       "\n",
       "    .dataframe thead th {\n",
       "        text-align: right;\n",
       "    }\n",
       "</style>\n",
       "<table border=\"1\" class=\"dataframe\">\n",
       "  <thead>\n",
       "    <tr style=\"text-align: right;\">\n",
       "      <th></th>\n",
       "      <th>n_clusters</th>\n",
       "      <th>cv_accuracy</th>\n",
       "      <th>final_accuracy</th>\n",
       "      <th>best_params</th>\n",
       "    </tr>\n",
       "  </thead>\n",
       "  <tbody>\n",
       "    <tr>\n",
       "      <th>0</th>\n",
       "      <td>50</td>\n",
       "      <td>0.410410</td>\n",
       "      <td>0.417417</td>\n",
       "      <td>{'max_features': 23, 'n_estimators': 1000, 'n_...</td>\n",
       "    </tr>\n",
       "    <tr>\n",
       "      <th>1</th>\n",
       "      <td>100</td>\n",
       "      <td>0.387387</td>\n",
       "      <td>0.375876</td>\n",
       "      <td>{'max_features': 34, 'n_estimators': 1000, 'n_...</td>\n",
       "    </tr>\n",
       "    <tr>\n",
       "      <th>2</th>\n",
       "      <td>200</td>\n",
       "      <td>0.348849</td>\n",
       "      <td>0.351351</td>\n",
       "      <td>{'max_features': 2, 'n_estimators': 1000, 'n_j...</td>\n",
       "    </tr>\n",
       "    <tr>\n",
       "      <th>3</th>\n",
       "      <td>300</td>\n",
       "      <td>0.331832</td>\n",
       "      <td>0.335335</td>\n",
       "      <td>{'max_features': 2, 'n_estimators': 1000, 'n_j...</td>\n",
       "    </tr>\n",
       "    <tr>\n",
       "      <th>4</th>\n",
       "      <td>500</td>\n",
       "      <td>0.348348</td>\n",
       "      <td>0.342843</td>\n",
       "      <td>{'max_features': 57, 'n_estimators': 1000, 'n_...</td>\n",
       "    </tr>\n",
       "  </tbody>\n",
       "</table>\n",
       "</div>"
      ],
      "text/plain": [
       "  n_clusters  cv_accuracy  final_accuracy  \\\n",
       "0         50     0.410410        0.417417   \n",
       "1        100     0.387387        0.375876   \n",
       "2        200     0.348849        0.351351   \n",
       "3        300     0.331832        0.335335   \n",
       "4        500     0.348348        0.342843   \n",
       "\n",
       "                                         best_params  \n",
       "0  {'max_features': 23, 'n_estimators': 1000, 'n_...  \n",
       "1  {'max_features': 34, 'n_estimators': 1000, 'n_...  \n",
       "2  {'max_features': 2, 'n_estimators': 1000, 'n_j...  \n",
       "3  {'max_features': 2, 'n_estimators': 1000, 'n_j...  \n",
       "4  {'max_features': 57, 'n_estimators': 1000, 'n_...  "
      ]
     },
     "execution_count": 60,
     "metadata": {},
     "output_type": "execute_result"
    }
   ],
   "source": [
    "results_df"
   ]
  },
  {
   "cell_type": "code",
   "execution_count": null,
   "metadata": {},
   "outputs": [],
   "source": []
  }
 ],
 "metadata": {
  "kernelspec": {
   "display_name": "Python 3",
   "language": "python",
   "name": "python3"
  },
  "language_info": {
   "codemirror_mode": {
    "name": "ipython",
    "version": 3
   },
   "file_extension": ".py",
   "mimetype": "text/x-python",
   "name": "python",
   "nbconvert_exporter": "python",
   "pygments_lexer": "ipython3",
   "version": "3.7.6"
  }
 },
 "nbformat": 4,
 "nbformat_minor": 4
}
